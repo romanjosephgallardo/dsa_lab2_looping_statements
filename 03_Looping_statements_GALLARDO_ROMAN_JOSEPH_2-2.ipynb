{
 "cells": [
  {
   "cell_type": "markdown",
   "metadata": {},
   "source": [
    "# **Laboratory Exercise 2**\n",
    "**Programmed by:** Gallardo, Roman Joseph C.\n",
    "\n"
   ]
  },
  {
   "cell_type": "markdown",
   "metadata": {},
   "source": [
    "**Course, Year and Section:** BSCpE 2-2\n"
   ]
  },
  {
   "cell_type": "markdown",
   "metadata": {},
   "source": [
    "**Instructor:** Prof. Godofredo Avena\n"
   ]
  },
  {
   "cell_type": "markdown",
   "metadata": {},
   "source": [
    "---"
   ]
  },
  {
   "cell_type": "markdown",
   "metadata": {},
   "source": [
    "### Lab 2 Exercise 1\n",
    "#### A teacher named Mrs. Rivera who loved making math fun for her students. One day, a student named Mia asked how to calculate powers, like (2^7). Mrs. Rivera explained, “Imagine you need to multiply 2 by itself seven times. We can solve this using a python code utilizing  special method called recursion to solve this,” \n",
    "### Can you help the class of Mrs. Rivera by providing the recursive method to calculate powers?\n"
   ]
  },
  {
   "cell_type": "markdown",
   "metadata": {},
   "source": [
    "***Source Code:***"
   ]
  },
  {
   "cell_type": "code",
   "execution_count": 3,
   "metadata": {},
   "outputs": [
    {
     "name": "stdout",
     "output_type": "stream",
     "text": [
      "5^7 = 78125\n"
     ]
    }
   ],
   "source": [
    "# Calculate powers in recursive method:\n",
    "\n",
    "# Define calculate powers function\n",
    "def calculate_powers(base, power):\n",
    "    if power != 0:\n",
    "        return base * calculate_powers(base, power - 1)\n",
    "    else:\n",
    "        return 1\n",
    "\n",
    "# Get the user input of base and power\n",
    "try:\n",
    "    entered_base = int(input(\"Enter the base number: \"))\n",
    "    entered_power = int(input(\"Enter the power: \"))\n",
    "except ValueError:\n",
    "    print(\"Invalid input. Please enter an integer.\")\n",
    "    exit()\n",
    "except:\n",
    "    print(\"Something went wrong. Exiting the program.\")\n",
    "    exit()\n",
    "\n",
    "# Call the function\n",
    "result = calculate_powers(entered_base, entered_power)\n",
    "\n",
    "# Print the result\n",
    "print(f\"{entered_base}^{entered_power} = {result}\")"
   ]
  },
  {
   "cell_type": "markdown",
   "metadata": {},
   "source": [
    "***Sample Output in the Terminal:***"
   ]
  },
  {
   "cell_type": "raw",
   "metadata": {},
   "source": [
    "Enter the base number: 2\n",
    "Enter the power: 7\n",
    "2^7 = 128"
   ]
  },
  {
   "cell_type": "markdown",
   "metadata": {},
   "source": [
    "***Link for GitHub Repository:*** https://github.com/romanjosephgallardo/calculate-powers-in-recursive-method"
   ]
  },
  {
   "cell_type": "markdown",
   "metadata": {},
   "source": [
    "---"
   ]
  },
  {
   "cell_type": "markdown",
   "metadata": {},
   "source": [
    "## Lab 2 Exercise 2\n",
    "#### compute for the cube of integers. "
   ]
  },
  {
   "cell_type": "raw",
   "metadata": {},
   "source": [
    "Steps:\n",
    "1. Input the size of the array.\n",
    "2. input the elements of the array\n",
    "3. display the cube of each element\n",
    "\n",
    "Sample output\n",
    "\n",
    "Enter the size of the array : 3\n",
    "Enter the elements separated by space: 3 10 20\n",
    "27\n",
    "1000\n",
    "8000"
   ]
  },
  {
   "cell_type": "markdown",
   "metadata": {},
   "source": [
    "***Source Code:***"
   ]
  },
  {
   "cell_type": "code",
   "execution_count": 2,
   "metadata": {},
   "outputs": [
    {
     "name": "stdout",
     "output_type": "stream",
     "text": [
      "27\n",
      "1000\n",
      "8000\n"
     ]
    }
   ],
   "source": [
    "# Cube of integers:\n",
    "\n",
    "# Get the size of the array\n",
    "try:\n",
    "    array_size = int(input(\"Enter the size of the array: \"))\n",
    "except ValueError:\n",
    "    print(\"Invalid input. Please enter an integer.\")\n",
    "    exit()\n",
    "\n",
    "# Get the elements of the array\n",
    "while True:\n",
    "    entered_elements = (input(\"Enter the elements separated by space: \")).split()\n",
    "    if len(entered_elements) != array_size:\n",
    "        print(f\"Invalid input. Please enter an integer with {array_size} elements seperated with spaces\")\n",
    "        exit()\n",
    "    elif len(entered_elements) == array_size:  \n",
    "        break\n",
    "    else:\n",
    "        print(\"Ivalid input. Please enter an integer\")\n",
    "        exit()\n",
    "\n",
    "# Convert the elements to distinct value of integers\n",
    "array = []\n",
    "for numbers in entered_elements:\n",
    "    array.append(int(numbers))\n",
    "\n",
    "# Calculate the cube of each element\n",
    "for cube in range(array_size):\n",
    "    array[cube] = array[cube] ** 3\n",
    "    # Print the array\n",
    "    print(array[cube])"
   ]
  },
  {
   "cell_type": "markdown",
   "metadata": {},
   "source": [
    "***Sample Output from the Terminal:***"
   ]
  },
  {
   "cell_type": "raw",
   "metadata": {},
   "source": [
    "Enter the size of the array: 4 \n",
    "Enter the elements separated by space: 3 10 20 30\n",
    "27\n",
    "1000\n",
    "8000\n",
    "27000"
   ]
  },
  {
   "cell_type": "markdown",
   "metadata": {},
   "source": [
    "***Link for GitHub Repository:*** https://github.com/romanjosephgallardo/cube-of-integers"
   ]
  },
  {
   "cell_type": "markdown",
   "metadata": {},
   "source": [
    "---"
   ]
  },
  {
   "cell_type": "markdown",
   "metadata": {},
   "source": [
    "## Lab 2 Exercise 3\n",
    "#### Generate a hollow square based on the + integer input side length n."
   ]
  },
  {
   "cell_type": "raw",
   "metadata": {},
   "source": [
    "Sample output\n",
    "\n",
    "Enter the side length of the square: 6\n",
    "xxxxxx\n",
    "x    x\n",
    "x    x\n",
    "x    x\n",
    "x    x\n",
    "xxxxxx"
   ]
  },
  {
   "cell_type": "markdown",
   "metadata": {},
   "source": [
    "***Source Code:***"
   ]
  },
  {
   "cell_type": "code",
   "execution_count": 4,
   "metadata": {},
   "outputs": [
    {
     "name": "stdout",
     "output_type": "stream",
     "text": [
      "xxxxxxxxx\n",
      "x       x\n",
      "x       x\n",
      "x       x\n",
      "x       x\n",
      "x       x\n",
      "x       x\n",
      "x       x\n",
      "xxxxxxxxx"
     ]
    }
   ],
   "source": [
    "# Hallow Square\n",
    "\n",
    "# Define the function to generate the square\n",
    "def hallow_square(n):\n",
    "    # Upper side of the square\n",
    "    for upper in range(n):\n",
    "        print(\"x\", end=\"\")\n",
    "    # Space between the upper and lower side of the square\n",
    "    print()\n",
    "    # Generate the horizontal side of the square\n",
    "    for horizontal_sides in range(n - 2):\n",
    "        print(\"x\" + (\" \" * (n - 2)) + \"x\")\n",
    "    # Lower side of the square\n",
    "    for lower in range(n):\n",
    "        print(\"x\", end=\"\")\n",
    "\n",
    "# User input for the side length of the square\n",
    "try:\n",
    "    length_n = int(input(\"Enter the side length of the square: \"))\n",
    "    hallow_square(length_n) # Call the function\n",
    "except ValueError:\n",
    "    print(\"Invalid input. Please enter an integer.\")\n",
    "    exit()\n",
    "except:\n",
    "    print(\"Something went wrong. Exiting the program.\")\n",
    "    exit()\n"
   ]
  },
  {
   "cell_type": "markdown",
   "metadata": {},
   "source": [
    "***Sample Output from the Terminal:***"
   ]
  },
  {
   "cell_type": "raw",
   "metadata": {},
   "source": [
    "Enter the side length of the square: 8\n",
    "xxxxxxxx\n",
    "x      x\n",
    "x      x\n",
    "x      x\n",
    "x      x\n",
    "x      x\n",
    "x      x\n",
    "xxxxxxxx"
   ]
  },
  {
   "cell_type": "markdown",
   "metadata": {},
   "source": [
    "***Link for GitHub Repository:*** https://github.com/romanjosephgallardo/hallow-square"
   ]
  },
  {
   "cell_type": "markdown",
   "metadata": {},
   "source": [
    "---"
   ]
  },
  {
   "cell_type": "markdown",
   "metadata": {},
   "source": [
    "### Lab 2 Exercise 4\n",
    "#### Generate an inverted right triangle of height n."
   ]
  },
  {
   "cell_type": "raw",
   "metadata": {},
   "source": [
    "Sample output\n",
    "\n",
    "Enter the height of the triangle: 6\n",
    "******\n",
    "*****\n",
    "****\n",
    "***\n",
    "**\n",
    "*"
   ]
  },
  {
   "cell_type": "markdown",
   "metadata": {},
   "source": [
    "***Source Code:***"
   ]
  },
  {
   "cell_type": "code",
   "execution_count": 1,
   "metadata": {},
   "outputs": [
    {
     "name": "stdout",
     "output_type": "stream",
     "text": [
      "******\n",
      "*****\n",
      "****\n",
      "***\n",
      "**\n",
      "*\n"
     ]
    }
   ],
   "source": [
    "# Inverted triangle\n",
    "\n",
    "# Define the function to generate the triangle\n",
    "def inverted_triangle(height_value):\n",
    "    for height_value in range(height_n, 0, -1):\n",
    "        print(\"*\" * height_value)\n",
    "\n",
    "# User input or the height of the triangle\n",
    "try:\n",
    "    height_n = int(input(\"Enter the height of the triangle: \"))\n",
    "    inverted_triangle(height_n)\n",
    "except ValueError:\n",
    "    print(\"Invalid input. Please enter an integer.\")\n",
    "    exit()\n",
    "except:\n",
    "    print(\"Something went wrong. Exiting the program.\")\n",
    "    exit()\n"
   ]
  },
  {
   "cell_type": "markdown",
   "metadata": {},
   "source": [
    "***Sample Output from the Terminal:***"
   ]
  },
  {
   "cell_type": "raw",
   "metadata": {},
   "source": [
    "Enter the height of the triangle: 9\n",
    "*********\n",
    "********\n",
    "*******\n",
    "******\n",
    "*****\n",
    "****\n",
    "***\n",
    "**\n",
    "*"
   ]
  },
  {
   "cell_type": "markdown",
   "metadata": {},
   "source": [
    "***Link for GitHub Repository:*** https://github.com/romanjosephgallardo/inverted_right_triangle"
   ]
  },
  {
   "cell_type": "markdown",
   "metadata": {},
   "source": [
    "---"
   ]
  }
 ],
 "metadata": {
  "kernelspec": {
   "display_name": "Python 3",
   "language": "python",
   "name": "python3"
  },
  "language_info": {
   "codemirror_mode": {
    "name": "ipython",
    "version": 3
   },
   "file_extension": ".py",
   "mimetype": "text/x-python",
   "name": "python",
   "nbconvert_exporter": "python",
   "pygments_lexer": "ipython3",
   "version": "3.12.1"
  }
 },
 "nbformat": 4,
 "nbformat_minor": 2
}
